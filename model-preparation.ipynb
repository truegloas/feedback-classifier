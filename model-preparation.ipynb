{
 "cells": [
  {
   "cell_type": "code",
   "execution_count": 36,
   "metadata": {},
   "outputs": [],
   "source": [
    "import os\n",
    "import shutil\n",
    "\n",
    "import tensorflow as tf\n",
    "import tensorflow_hub as hub\n",
    "import tensorflow_text as text\n",
    "from official.nlp import optimization\n",
    "\n",
    "import matplotlib.pyplot as plt\n",
    "\n",
    "tf.get_logger().setLevel('ERROR')"
   ]
  },
  {
   "cell_type": "code",
   "execution_count": 2,
   "metadata": {},
   "outputs": [],
   "source": [
    "url = 'https://ai.stanford.edu/~amaas/data/sentiment/aclImdb_v1.tar.gz'\n",
    "\n",
    "dataset = tf.keras.utils.get_file('aclImdb_v1.tar.gz', url,\n",
    "                                  untar=True, cache_dir='.',\n",
    "                                  cache_subdir='')\n",
    "\n",
    "dataset_dir = os.path.join(os.path.dirname(dataset), 'aclImdb')\n",
    "\n",
    "train_dir = os.path.join(dataset_dir, 'train')\n",
    "\n",
    "remove_dir = os.path.join(train_dir, 'unsup')\n",
    "shutil.rmtree(remove_dir)"
   ]
  },
  {
   "cell_type": "markdown",
   "metadata": {},
   "source": [
    "### Change directories and file names to make rating as a directories' name"
   ]
  },
  {
   "cell_type": "code",
   "execution_count": 10,
   "metadata": {},
   "outputs": [
    {
     "data": {
      "text/plain": [
       "'10'"
      ]
     },
     "execution_count": 10,
     "metadata": {},
     "output_type": "execute_result"
    }
   ],
   "source": [
    "os.listdir(\"./aclImdb/train/pos\")[2].split('_')[1].split('.')[0]"
   ]
  },
  {
   "cell_type": "code",
   "execution_count": 11,
   "metadata": {},
   "outputs": [
    {
     "ename": "FileExistsError",
     "evalue": "[WinError 183] Невозможно создать файл, так как он уже существует: './aclImdb_changed/'",
     "output_type": "error",
     "traceback": [
      "\u001b[1;31m---------------------------------------------------------------------------\u001b[0m",
      "\u001b[1;31mFileExistsError\u001b[0m                           Traceback (most recent call last)",
      "\u001b[1;32m<ipython-input-11-64f5e66f2856>\u001b[0m in \u001b[0;36m<module>\u001b[1;34m\u001b[0m\n\u001b[1;32m----> 1\u001b[1;33m \u001b[0mos\u001b[0m\u001b[1;33m.\u001b[0m\u001b[0mmkdir\u001b[0m\u001b[1;33m(\u001b[0m\u001b[1;34m\"./aclImdb_changed/\"\u001b[0m\u001b[1;33m)\u001b[0m\u001b[1;33m\u001b[0m\u001b[1;33m\u001b[0m\u001b[0m\n\u001b[0m\u001b[0;32m      2\u001b[0m \u001b[0mos\u001b[0m\u001b[1;33m.\u001b[0m\u001b[0mmkdir\u001b[0m\u001b[1;33m(\u001b[0m\u001b[1;34m\"./aclImdb_changed/train/\"\u001b[0m\u001b[1;33m)\u001b[0m\u001b[1;33m\u001b[0m\u001b[1;33m\u001b[0m\u001b[0m\n\u001b[0;32m      3\u001b[0m \u001b[0mos\u001b[0m\u001b[1;33m.\u001b[0m\u001b[0mmkdir\u001b[0m\u001b[1;33m(\u001b[0m\u001b[1;34m\"./aclImdb_changed/test/\"\u001b[0m\u001b[1;33m)\u001b[0m\u001b[1;33m\u001b[0m\u001b[1;33m\u001b[0m\u001b[0m\n\u001b[0;32m      4\u001b[0m \u001b[1;32mfor\u001b[0m \u001b[0mi\u001b[0m \u001b[1;32min\u001b[0m \u001b[0mrange\u001b[0m\u001b[1;33m(\u001b[0m\u001b[1;36m1\u001b[0m\u001b[1;33m,\u001b[0m \u001b[1;36m11\u001b[0m\u001b[1;33m)\u001b[0m\u001b[1;33m:\u001b[0m\u001b[1;33m\u001b[0m\u001b[1;33m\u001b[0m\u001b[0m\n\u001b[0;32m      5\u001b[0m     \u001b[0mos\u001b[0m\u001b[1;33m.\u001b[0m\u001b[0mmkdir\u001b[0m\u001b[1;33m(\u001b[0m\u001b[1;34mf\"./aclImdb_changed/train/{i}\"\u001b[0m\u001b[1;33m)\u001b[0m\u001b[1;33m\u001b[0m\u001b[1;33m\u001b[0m\u001b[0m\n",
      "\u001b[1;31mFileExistsError\u001b[0m: [WinError 183] Невозможно создать файл, так как он уже существует: './aclImdb_changed/'"
     ]
    }
   ],
   "source": [
    "os.mkdir(\"./aclImdb_changed/\")\n",
    "os.mkdir(\"./aclImdb_changed/train/\")\n",
    "os.mkdir(\"./aclImdb_changed/test/\")\n",
    "for i in range(1, 11):\n",
    "    os.mkdir(f\"./aclImdb_changed/train/{i}\")\n",
    "for i in range(1, 11):\n",
    "    os.mkdir(f\"./aclImdb_changed/test/{i}\")"
   ]
  },
  {
   "cell_type": "code",
   "execution_count": 4,
   "metadata": {},
   "outputs": [],
   "source": [
    "for train_test_split in ['train', 'test']:\n",
    "    for neg_pos_split in ['neg', 'pos']:\n",
    "        for file_name in os.listdir(\"./aclImdb/{}/{}\".format(train_test_split, neg_pos_split)):\n",
    "            score_of_file_name = file_name.split('_')[1].split('.')[0]\n",
    "            id_of_file_name = file_name.split('_')[0]\n",
    "            \n",
    "            file_src = \"./aclImdb/{}/{}/{}\".format(train_test_split,\n",
    "                                                    neg_pos_split,\n",
    "                                                    file_name)\n",
    "            f_src = open(file_src, 'rb')\n",
    "            \n",
    "            file_dest = \"./aclImdb_changed/{}/{}/{}_{}.txt\".format(train_test_split,\n",
    "                                                                   score_of_file_name,\n",
    "                                                                   id_of_file_name,\n",
    "                                                                   neg_pos_split)\n",
    "            f_dest = open(file_dest, 'wb')\n",
    "            \n",
    "            shutil.copyfileobj(f_src, f_dest)\n",
    "            \n",
    "            f_src.close()\n",
    "            f_dest.close()"
   ]
  },
  {
   "cell_type": "code",
   "execution_count": 37,
   "metadata": {},
   "outputs": [
    {
     "name": "stdout",
     "output_type": "stream",
     "text": [
      "Found 25000 files belonging to 10 classes.\n",
      "Using 20000 files for training.\n",
      "Found 25000 files belonging to 10 classes.\n",
      "Using 5000 files for validation.\n",
      "Found 25000 files belonging to 10 classes.\n"
     ]
    }
   ],
   "source": [
    "AUTOTUNE = tf.data.AUTOTUNE\n",
    "batch_size = 32\n",
    "seed = 42\n",
    "label_mode = 'categorical'\n",
    "\n",
    "raw_train_ds = tf.keras.preprocessing.text_dataset_from_directory(\n",
    "    'aclImdb_changed/train',\n",
    "    batch_size=batch_size,\n",
    "    validation_split=0.2,\n",
    "    subset='training',\n",
    "    seed=seed,\n",
    "    label_mode=label_mode)\n",
    "\n",
    "class_names = raw_train_ds.class_names\n",
    "train_ds = raw_train_ds.cache().prefetch(buffer_size=AUTOTUNE)\n",
    "\n",
    "val_ds = tf.keras.preprocessing.text_dataset_from_directory(\n",
    "    'aclImdb_changed/train',\n",
    "    batch_size=batch_size,\n",
    "    validation_split=0.2,\n",
    "    subset='validation',\n",
    "    seed=seed,\n",
    "    label_mode=label_mode)\n",
    "\n",
    "val_ds = val_ds.cache().prefetch(buffer_size=AUTOTUNE)\n",
    "\n",
    "test_ds = tf.keras.preprocessing.text_dataset_from_directory(\n",
    "    'aclImdb_changed/test',\n",
    "    batch_size=batch_size,\n",
    "    label_mode=label_mode)\n",
    "\n",
    "test_ds = test_ds.cache().prefetch(buffer_size=AUTOTUNE)"
   ]
  },
  {
   "cell_type": "code",
   "execution_count": 39,
   "metadata": {},
   "outputs": [
    {
     "name": "stdout",
     "output_type": "stream",
     "text": [
      "Review: b'Although I have enjoyed Bing Crosby in other movies, I find this movie to be particularly grating. Maybe because I\\'m from a different era and a different country, but I found Crosby\\'s continual references to the Good Old USA pleasant at first, trite after a while and then finally annoying. Don\\'t get me wrong - I\\'m not anti-American whatsoever - but it seemed that the English could do no right and/or needed this brave, oh so smart American visitor to show them the way. It\\'s a \"fish out of water\" story, but unlike most movies of this sort, this time it\\'s the \"fish\" who has the upper hand. To be fair to both myself and the movie, I have watched it a few times spaced over a few years and get the same impression each time.<br /><br />(I watched another Crosby movie last night - The Emperor\\'s Waltz - and that, too, produced the same reaction in me. And to my surprise even my wife - who for what\\'s it\\'s worth is American - found the \"in your face\" attitude of American Crosby to be irritating. One too many references to Teddy Roosevelt, as she put it.) <br /><br />As for the premise of the movie, it\\'s unique enough for its day and the supporting cast is of course very good. The scenery and the music is also good, as are the great costumes - although I agree with a previous reviewer that the wig on William Bendix looks horrid (picture Moe of The Three Stooges).<br /><br />All in all for me this would be a much more enjoyable picture without the attitude of Bing Crosby but because he is in virtually every shot it\\'s pretty hard to sit through this movie.'\n",
      "Label : [0. 0. 0. 1. 0. 0. 0. 0. 0. 0.] (3)\n",
      "Review: b\"Extremely poor action film starring the ever wooden Dolph Lundgren and Brandon Lee trapped in a sidekick role that never seems to gel. The action is at best average, a bit of nudity chucked in and yes Tia Carrera does use a body double! <br /><br />The set-up is the usual renegade cop forced to break in a new partner on a big case, the makers at least try to give the formula a twist making Lundgren the cop with Oriental values and Lee the modern city slicker but there is zero character development making it almost comical, Lundgrens oriental warrior outfit for the big showdown has to be seen to be believed. The action sequences are by the numbers and Lee(who would go on to make the excellent The Crow) is never given the scope to show off any particular martial arts brilliance. But given his illustrious parentage he must have been under a hell of a lot of pressure and was far better served not having to live up to his father by taking on a very different role in The Crow which showed what a unique actor he may have become if not for his tragic and early death.<br /><br />Unless your a hardcore Lundgren fan or a fan of poor 80's style action movies (think Cobra etc.) then avoid.<br /><br />Poor 3/10\"\n",
      "Label : [0. 0. 0. 1. 0. 0. 0. 0. 0. 0.] (3)\n",
      "Review: b'One could wish that an idea as good as the \"invisible man\" would work better and be more carefully handled in the age of fantastic special effects, but this is not the case. The story, the characters and, finally the entire last 20 minutes of the film are about as fresh as a mad-scientist flick from the early 50\\'s. There are some great moments, mostly due to the amazing special effects and to the very idea of an invisible man stalking the streets. But alas, soon we\\'re back in the cramped confinement of the underground lab, which means that the rest of the film is not only predictable, but schematic.<br /><br />There has been a great many remakes of old films or TV shows over the past 10 years, and some of them have their charms. But it\\'s becoming clearer and clearer for each film that the idea of putting ol\\' classics under the noses of eager madmen like Verhoeven (who does have his moments) is a very bad one. It is obvious that the money is the key issue here: the time and energy put into the script is nowhere near enough, and as a result, \"Hollow Man\" is seriously undermined with clich\\xc3\\xa9s, sappy characters, predictability and lack of any depth whatsoever.<br /><br />However, the one thing that actually impressed me, beside the special effects, was the swearing. When making this kind of film, modern producers are very keen on allowing kids to see them. Therefore, the language (and, sometimes, the violence and sex) is very toned down. When the whole world blows up, the good guys go \"Oh darn!\" and \"Oh my God\". \"Hollow Man\" gratefully discards that kind of hypocrisy and the characters are at liberty to say what comes most natural to them. I\\'m not saying that the most natural response to something gone wrong is to swear - but it makes it more believable if SOMEONE actually swears. I think we can thank Verhoeven for that.'\n",
      "Label : [0. 0. 0. 0. 1. 0. 0. 0. 0. 0.] (4)\n"
     ]
    }
   ],
   "source": [
    "for text_batch, label_batch in train_ds.take(1):\n",
    "  for i in range(3):\n",
    "    print(f'Review: {text_batch.numpy()[i]}')\n",
    "    label = label_batch.numpy()[i]\n",
    "    print(f'Label : {label} ({class_names[label.tolist().index(max(label))]})')"
   ]
  },
  {
   "cell_type": "code",
   "execution_count": 40,
   "metadata": {},
   "outputs": [
    {
     "name": "stdout",
     "output_type": "stream",
     "text": [
      "BERT model selected           : https://tfhub.dev/google/electra_small/2\n",
      "Preprocess model auto-selected: https://tfhub.dev/tensorflow/bert_en_uncased_preprocess/3\n"
     ]
    }
   ],
   "source": [
    "bert_model_name = 'electra_small' \n",
    "\n",
    "map_name_to_handle = {\n",
    "    'bert_en_uncased_L-12_H-768_A-12':\n",
    "        'https://tfhub.dev/tensorflow/bert_en_uncased_L-12_H-768_A-12/3',\n",
    "    'bert_en_cased_L-12_H-768_A-12':\n",
    "        'https://tfhub.dev/tensorflow/bert_en_cased_L-12_H-768_A-12/3',\n",
    "    'bert_multi_cased_L-12_H-768_A-12':\n",
    "        'https://tfhub.dev/tensorflow/bert_multi_cased_L-12_H-768_A-12/3',\n",
    "    'small_bert/bert_en_uncased_L-2_H-128_A-2':\n",
    "        'https://tfhub.dev/tensorflow/small_bert/bert_en_uncased_L-2_H-128_A-2/1',\n",
    "    'small_bert/bert_en_uncased_L-2_H-256_A-4':\n",
    "        'https://tfhub.dev/tensorflow/small_bert/bert_en_uncased_L-2_H-256_A-4/1',\n",
    "    'small_bert/bert_en_uncased_L-2_H-512_A-8':\n",
    "        'https://tfhub.dev/tensorflow/small_bert/bert_en_uncased_L-2_H-512_A-8/1',\n",
    "    'small_bert/bert_en_uncased_L-2_H-768_A-12':\n",
    "        'https://tfhub.dev/tensorflow/small_bert/bert_en_uncased_L-2_H-768_A-12/1',\n",
    "    'small_bert/bert_en_uncased_L-4_H-128_A-2':\n",
    "        'https://tfhub.dev/tensorflow/small_bert/bert_en_uncased_L-4_H-128_A-2/1',\n",
    "    'small_bert/bert_en_uncased_L-4_H-256_A-4':\n",
    "        'https://tfhub.dev/tensorflow/small_bert/bert_en_uncased_L-4_H-256_A-4/1',\n",
    "    'small_bert/bert_en_uncased_L-4_H-512_A-8':\n",
    "        'https://tfhub.dev/tensorflow/small_bert/bert_en_uncased_L-4_H-512_A-8/1',\n",
    "    'small_bert/bert_en_uncased_L-4_H-768_A-12':\n",
    "        'https://tfhub.dev/tensorflow/small_bert/bert_en_uncased_L-4_H-768_A-12/1',\n",
    "    'small_bert/bert_en_uncased_L-6_H-128_A-2':\n",
    "        'https://tfhub.dev/tensorflow/small_bert/bert_en_uncased_L-6_H-128_A-2/1',\n",
    "    'small_bert/bert_en_uncased_L-6_H-256_A-4':\n",
    "        'https://tfhub.dev/tensorflow/small_bert/bert_en_uncased_L-6_H-256_A-4/1',\n",
    "    'small_bert/bert_en_uncased_L-6_H-512_A-8':\n",
    "        'https://tfhub.dev/tensorflow/small_bert/bert_en_uncased_L-6_H-512_A-8/1',\n",
    "    'small_bert/bert_en_uncased_L-6_H-768_A-12':\n",
    "        'https://tfhub.dev/tensorflow/small_bert/bert_en_uncased_L-6_H-768_A-12/1',\n",
    "    'small_bert/bert_en_uncased_L-8_H-128_A-2':\n",
    "        'https://tfhub.dev/tensorflow/small_bert/bert_en_uncased_L-8_H-128_A-2/1',\n",
    "    'small_bert/bert_en_uncased_L-8_H-256_A-4':\n",
    "        'https://tfhub.dev/tensorflow/small_bert/bert_en_uncased_L-8_H-256_A-4/1',\n",
    "    'small_bert/bert_en_uncased_L-8_H-512_A-8':\n",
    "        'https://tfhub.dev/tensorflow/small_bert/bert_en_uncased_L-8_H-512_A-8/1',\n",
    "    'small_bert/bert_en_uncased_L-8_H-768_A-12':\n",
    "        'https://tfhub.dev/tensorflow/small_bert/bert_en_uncased_L-8_H-768_A-12/1',\n",
    "    'small_bert/bert_en_uncased_L-10_H-128_A-2':\n",
    "        'https://tfhub.dev/tensorflow/small_bert/bert_en_uncased_L-10_H-128_A-2/1',\n",
    "    'small_bert/bert_en_uncased_L-10_H-256_A-4':\n",
    "        'https://tfhub.dev/tensorflow/small_bert/bert_en_uncased_L-10_H-256_A-4/1',\n",
    "    'small_bert/bert_en_uncased_L-10_H-512_A-8':\n",
    "        'https://tfhub.dev/tensorflow/small_bert/bert_en_uncased_L-10_H-512_A-8/1',\n",
    "    'small_bert/bert_en_uncased_L-10_H-768_A-12':\n",
    "        'https://tfhub.dev/tensorflow/small_bert/bert_en_uncased_L-10_H-768_A-12/1',\n",
    "    'small_bert/bert_en_uncased_L-12_H-128_A-2':\n",
    "        'https://tfhub.dev/tensorflow/small_bert/bert_en_uncased_L-12_H-128_A-2/1',\n",
    "    'small_bert/bert_en_uncased_L-12_H-256_A-4':\n",
    "        'https://tfhub.dev/tensorflow/small_bert/bert_en_uncased_L-12_H-256_A-4/1',\n",
    "    'small_bert/bert_en_uncased_L-12_H-512_A-8':\n",
    "        'https://tfhub.dev/tensorflow/small_bert/bert_en_uncased_L-12_H-512_A-8/1',\n",
    "    'small_bert/bert_en_uncased_L-12_H-768_A-12':\n",
    "        'https://tfhub.dev/tensorflow/small_bert/bert_en_uncased_L-12_H-768_A-12/1',\n",
    "    'albert_en_base':\n",
    "        'https://tfhub.dev/tensorflow/albert_en_base/2',\n",
    "    'electra_small':\n",
    "        'https://tfhub.dev/google/electra_small/2',\n",
    "    'electra_base':\n",
    "        'https://tfhub.dev/google/electra_base/2',\n",
    "    'experts_pubmed':\n",
    "        'https://tfhub.dev/google/experts/bert/pubmed/2',\n",
    "    'experts_wiki_books':\n",
    "        'https://tfhub.dev/google/experts/bert/wiki_books/2',\n",
    "    'talking-heads_base':\n",
    "        'https://tfhub.dev/tensorflow/talkheads_ggelu_bert_en_base/1',\n",
    "}\n",
    "\n",
    "map_model_to_preprocess = {\n",
    "    'bert_en_uncased_L-12_H-768_A-12':\n",
    "        'https://tfhub.dev/tensorflow/bert_en_uncased_preprocess/3',\n",
    "    'bert_en_cased_L-12_H-768_A-12':\n",
    "        'https://tfhub.dev/tensorflow/bert_en_cased_preprocess/3',\n",
    "    'small_bert/bert_en_uncased_L-2_H-128_A-2':\n",
    "        'https://tfhub.dev/tensorflow/bert_en_uncased_preprocess/3',\n",
    "    'small_bert/bert_en_uncased_L-2_H-256_A-4':\n",
    "        'https://tfhub.dev/tensorflow/bert_en_uncased_preprocess/3',\n",
    "    'small_bert/bert_en_uncased_L-2_H-512_A-8':\n",
    "        'https://tfhub.dev/tensorflow/bert_en_uncased_preprocess/3',\n",
    "    'small_bert/bert_en_uncased_L-2_H-768_A-12':\n",
    "        'https://tfhub.dev/tensorflow/bert_en_uncased_preprocess/3',\n",
    "    'small_bert/bert_en_uncased_L-4_H-128_A-2':\n",
    "        'https://tfhub.dev/tensorflow/bert_en_uncased_preprocess/3',\n",
    "    'small_bert/bert_en_uncased_L-4_H-256_A-4':\n",
    "        'https://tfhub.dev/tensorflow/bert_en_uncased_preprocess/3',\n",
    "    'small_bert/bert_en_uncased_L-4_H-512_A-8':\n",
    "        'https://tfhub.dev/tensorflow/bert_en_uncased_preprocess/3',\n",
    "    'small_bert/bert_en_uncased_L-4_H-768_A-12':\n",
    "        'https://tfhub.dev/tensorflow/bert_en_uncased_preprocess/3',\n",
    "    'small_bert/bert_en_uncased_L-6_H-128_A-2':\n",
    "        'https://tfhub.dev/tensorflow/bert_en_uncased_preprocess/3',\n",
    "    'small_bert/bert_en_uncased_L-6_H-256_A-4':\n",
    "        'https://tfhub.dev/tensorflow/bert_en_uncased_preprocess/3',\n",
    "    'small_bert/bert_en_uncased_L-6_H-512_A-8':\n",
    "        'https://tfhub.dev/tensorflow/bert_en_uncased_preprocess/3',\n",
    "    'small_bert/bert_en_uncased_L-6_H-768_A-12':\n",
    "        'https://tfhub.dev/tensorflow/bert_en_uncased_preprocess/3',\n",
    "    'small_bert/bert_en_uncased_L-8_H-128_A-2':\n",
    "        'https://tfhub.dev/tensorflow/bert_en_uncased_preprocess/3',\n",
    "    'small_bert/bert_en_uncased_L-8_H-256_A-4':\n",
    "        'https://tfhub.dev/tensorflow/bert_en_uncased_preprocess/3',\n",
    "    'small_bert/bert_en_uncased_L-8_H-512_A-8':\n",
    "        'https://tfhub.dev/tensorflow/bert_en_uncased_preprocess/3',\n",
    "    'small_bert/bert_en_uncased_L-8_H-768_A-12':\n",
    "        'https://tfhub.dev/tensorflow/bert_en_uncased_preprocess/3',\n",
    "    'small_bert/bert_en_uncased_L-10_H-128_A-2':\n",
    "        'https://tfhub.dev/tensorflow/bert_en_uncased_preprocess/3',\n",
    "    'small_bert/bert_en_uncased_L-10_H-256_A-4':\n",
    "        'https://tfhub.dev/tensorflow/bert_en_uncased_preprocess/3',\n",
    "    'small_bert/bert_en_uncased_L-10_H-512_A-8':\n",
    "        'https://tfhub.dev/tensorflow/bert_en_uncased_preprocess/3',\n",
    "    'small_bert/bert_en_uncased_L-10_H-768_A-12':\n",
    "        'https://tfhub.dev/tensorflow/bert_en_uncased_preprocess/3',\n",
    "    'small_bert/bert_en_uncased_L-12_H-128_A-2':\n",
    "        'https://tfhub.dev/tensorflow/bert_en_uncased_preprocess/3',\n",
    "    'small_bert/bert_en_uncased_L-12_H-256_A-4':\n",
    "        'https://tfhub.dev/tensorflow/bert_en_uncased_preprocess/3',\n",
    "    'small_bert/bert_en_uncased_L-12_H-512_A-8':\n",
    "        'https://tfhub.dev/tensorflow/bert_en_uncased_preprocess/3',\n",
    "    'small_bert/bert_en_uncased_L-12_H-768_A-12':\n",
    "        'https://tfhub.dev/tensorflow/bert_en_uncased_preprocess/3',\n",
    "    'bert_multi_cased_L-12_H-768_A-12':\n",
    "        'https://tfhub.dev/tensorflow/bert_multi_cased_preprocess/3',\n",
    "    'albert_en_base':\n",
    "        'https://tfhub.dev/tensorflow/albert_en_preprocess/3',\n",
    "    'electra_small':\n",
    "        'https://tfhub.dev/tensorflow/bert_en_uncased_preprocess/3',\n",
    "    'electra_base':\n",
    "        'https://tfhub.dev/tensorflow/bert_en_uncased_preprocess/3',\n",
    "    'experts_pubmed':\n",
    "        'https://tfhub.dev/tensorflow/bert_en_uncased_preprocess/3',\n",
    "    'experts_wiki_books':\n",
    "        'https://tfhub.dev/tensorflow/bert_en_uncased_preprocess/3',\n",
    "    'talking-heads_base':\n",
    "        'https://tfhub.dev/tensorflow/bert_en_uncased_preprocess/3',\n",
    "}\n",
    "\n",
    "tfhub_handle_encoder = map_name_to_handle[bert_model_name]\n",
    "tfhub_handle_preprocess = map_model_to_preprocess[bert_model_name]\n",
    "\n",
    "print(f'BERT model selected           : {tfhub_handle_encoder}')\n",
    "print(f'Preprocess model auto-selected: {tfhub_handle_preprocess}')"
   ]
  },
  {
   "cell_type": "code",
   "execution_count": 41,
   "metadata": {},
   "outputs": [],
   "source": [
    "bert_preprocess_model = hub.KerasLayer(tfhub_handle_preprocess)"
   ]
  },
  {
   "cell_type": "code",
   "execution_count": 42,
   "metadata": {},
   "outputs": [
    {
     "name": "stdout",
     "output_type": "stream",
     "text": [
      "Keys       : ['input_mask', 'input_type_ids', 'input_word_ids']\n",
      "Shape      : (1, 128)\n",
      "Word Ids   : [ 101 2023 2003 2107 2019 6429 3185  999  102    0    0    0]\n",
      "Input Mask : [1 1 1 1 1 1 1 1 1 0 0 0]\n",
      "Type Ids   : [0 0 0 0 0 0 0 0 0 0 0 0]\n"
     ]
    }
   ],
   "source": [
    "text_test = ['this is such an amazing movie!']\n",
    "text_preprocessed = bert_preprocess_model(text_test)\n",
    "\n",
    "print(f'Keys       : {list(text_preprocessed.keys())}')\n",
    "print(f'Shape      : {text_preprocessed[\"input_word_ids\"].shape}')\n",
    "print(f'Word Ids   : {text_preprocessed[\"input_word_ids\"][0, :12]}')\n",
    "print(f'Input Mask : {text_preprocessed[\"input_mask\"][0, :12]}')\n",
    "print(f'Type Ids   : {text_preprocessed[\"input_type_ids\"][0, :12]}')"
   ]
  },
  {
   "cell_type": "code",
   "execution_count": 43,
   "metadata": {},
   "outputs": [],
   "source": [
    "bert_model = hub.KerasLayer(tfhub_handle_encoder)"
   ]
  },
  {
   "cell_type": "code",
   "execution_count": 44,
   "metadata": {},
   "outputs": [
    {
     "name": "stdout",
     "output_type": "stream",
     "text": [
      "Loaded BERT: https://tfhub.dev/google/electra_small/2\n",
      "Pooled Outputs Shape:(1, 256)\n",
      "Pooled Outputs Values:[-0.10836226  0.44823638 -0.34683406  0.19495142  0.6461417  -0.19015458\n",
      "  0.88206446  0.9730518   0.5487044   0.09718803 -0.6218557  -0.817908  ]\n",
      "Sequence Outputs Shape:(1, 128, 256)\n",
      "Sequence Outputs Values:[[-0.10878944  0.48249102 -0.3618404  ...  0.78575134 -0.92949957\n",
      "   0.00239475]\n",
      " [ 0.02633602 -0.02841341 -0.6654847  ...  1.0874976  -0.9247099\n",
      "  -0.631996  ]\n",
      " [ 0.0137741   0.58779514  0.5324823  ...  0.2326007  -1.1400315\n",
      "   1.0107266 ]\n",
      " ...\n",
      " [ 1.1805729  -0.159688   -0.63374966 ... -0.29925543 -0.2618149\n",
      "  -0.49652207]\n",
      " [ 1.124461    0.10477596 -0.55947626 ... -0.39726853 -0.30455184\n",
      "  -0.5040226 ]\n",
      " [ 1.0742393   0.13643174 -0.46082553 ... -0.44207394 -0.2523386\n",
      "  -0.508529  ]]\n"
     ]
    }
   ],
   "source": [
    "bert_results = bert_model(text_preprocessed)\n",
    "\n",
    "print(f'Loaded BERT: {tfhub_handle_encoder}')\n",
    "print(f'Pooled Outputs Shape:{bert_results[\"pooled_output\"].shape}')\n",
    "print(f'Pooled Outputs Values:{bert_results[\"pooled_output\"][0, :12]}')\n",
    "print(f'Sequence Outputs Shape:{bert_results[\"sequence_output\"].shape}')\n",
    "print(f'Sequence Outputs Values:{bert_results[\"sequence_output\"][0, :12]}')"
   ]
  },
  {
   "cell_type": "code",
   "execution_count": 45,
   "metadata": {},
   "outputs": [],
   "source": [
    "def build_classifier_model():\n",
    "  text_input = tf.keras.layers.Input(shape=(), dtype=tf.string, name='text')\n",
    "  preprocessing_layer = hub.KerasLayer(tfhub_handle_preprocess, name='preprocessing')\n",
    "  encoder_inputs = preprocessing_layer(text_input)\n",
    "  encoder = hub.KerasLayer(tfhub_handle_encoder, trainable=True, name='BERT_encoder')\n",
    "  outputs = encoder(encoder_inputs)\n",
    "  net = outputs['pooled_output']\n",
    "  net = tf.keras.layers.Dropout(0.1)(net)\n",
    "  net = tf.keras.layers.Dense(10, activation='softmax', name='classifier')(net)\n",
    "  return tf.keras.Model(text_input, net)"
   ]
  },
  {
   "cell_type": "code",
   "execution_count": 51,
   "metadata": {},
   "outputs": [
    {
     "name": "stdout",
     "output_type": "stream",
     "text": [
      "tf.Tensor(\n",
      "[[0.1484787  0.05579026 0.04361766 0.04087777 0.05426791 0.28982645\n",
      "  0.09962881 0.09453437 0.08040337 0.09257461]], shape=(1, 10), dtype=float32)\n"
     ]
    }
   ],
   "source": [
    "classifier_model = build_classifier_model()\n",
    "bert_raw_result = classifier_model(tf.constant(text_test))\n",
    "print(bert_raw_result)"
   ]
  },
  {
   "cell_type": "code",
   "execution_count": 58,
   "metadata": {},
   "outputs": [],
   "source": [
    "def to_correct_predict(raw_predict):\n",
    "    listed_predict = raw_predict.numpy().tolist()[0]\n",
    "    \n",
    "    correct_predict = listed_predict.index(max(listed_predict))\n",
    "    \n",
    "    return correct_predict"
   ]
  },
  {
   "cell_type": "code",
   "execution_count": 59,
   "metadata": {},
   "outputs": [
    {
     "name": "stdout",
     "output_type": "stream",
     "text": [
      "5\n"
     ]
    }
   ],
   "source": [
    "print(to_correct_predict(bert_raw_result))"
   ]
  },
  {
   "cell_type": "code",
   "execution_count": 64,
   "metadata": {},
   "outputs": [],
   "source": [
    "loss = tf.keras.losses.CategoricalCrossentropy()\n",
    "metrics = tf.keras.metrics.CategoricalAccuracy()"
   ]
  },
  {
   "cell_type": "code",
   "execution_count": 61,
   "metadata": {},
   "outputs": [],
   "source": [
    "epochs = 5\n",
    "steps_per_epoch = tf.data.experimental.cardinality(train_ds).numpy()\n",
    "num_train_steps = steps_per_epoch * epochs\n",
    "num_warmup_steps = int(0.1*num_train_steps)\n",
    "\n",
    "init_lr = 3e-5\n",
    "optimizer = optimization.create_optimizer(init_lr=init_lr,\n",
    "                                          num_train_steps=num_train_steps,\n",
    "                                          num_warmup_steps=num_warmup_steps,\n",
    "                                          optimizer_type='adamw')"
   ]
  },
  {
   "cell_type": "code",
   "execution_count": 65,
   "metadata": {},
   "outputs": [],
   "source": [
    "classifier_model.compile(optimizer=optimizer,\n",
    "                         loss=loss,\n",
    "                         metrics=metrics)"
   ]
  },
  {
   "cell_type": "code",
   "execution_count": 66,
   "metadata": {},
   "outputs": [
    {
     "name": "stdout",
     "output_type": "stream",
     "text": [
      "Training model with https://tfhub.dev/google/electra_small/2\n",
      "Epoch 1/5\n",
      "625/625 [==============================] - 2423s 4s/step - loss: 1.8947 - categorical_accuracy: 0.2905 - val_loss: 1.5885 - val_categorical_accuracy: 0.3848\n",
      "Epoch 2/5\n",
      "625/625 [==============================] - 2345s 4s/step - loss: 1.5675 - categorical_accuracy: 0.3927 - val_loss: 1.5442 - val_categorical_accuracy: 0.4020\n",
      "Epoch 3/5\n",
      "625/625 [==============================] - 2524s 4s/step - loss: 1.4721 - categorical_accuracy: 0.4273 - val_loss: 1.5083 - val_categorical_accuracy: 0.4106\n",
      "Epoch 4/5\n",
      "625/625 [==============================] - 2431s 4s/step - loss: 1.4011 - categorical_accuracy: 0.4518 - val_loss: 1.5154 - val_categorical_accuracy: 0.4128\n",
      "Epoch 5/5\n",
      "625/625 [==============================] - 2403s 4s/step - loss: 1.3527 - categorical_accuracy: 0.4667 - val_loss: 1.5368 - val_categorical_accuracy: 0.4084\n"
     ]
    }
   ],
   "source": [
    "print(f'Training model with {tfhub_handle_encoder}')\n",
    "history = classifier_model.fit(x=train_ds,\n",
    "                               validation_data=val_ds,\n",
    "                               epochs=epochs)"
   ]
  },
  {
   "cell_type": "code",
   "execution_count": 70,
   "metadata": {},
   "outputs": [
    {
     "name": "stdout",
     "output_type": "stream",
     "text": [
      "782/782 [==============================] - 825s 1s/step - loss: 1.5395 - categorical_accuracy: 0.4130\n",
      "Loss: 1.5395350456237793\n",
      "Accuracy: 0.4129599928855896\n"
     ]
    }
   ],
   "source": [
    "loss, accuracy = classifier_model.evaluate(test_ds)\n",
    "\n",
    "print(f'Loss: {loss}')\n",
    "print(f'Accuracy: {accuracy}')"
   ]
  },
  {
   "cell_type": "code",
   "execution_count": 71,
   "metadata": {},
   "outputs": [
    {
     "name": "stderr",
     "output_type": "stream",
     "text": [
      "WARNING:absl:Found untraced functions such as restored_function_body, restored_function_body, restored_function_body, restored_function_body, restored_function_body while saving (showing 5 of 900). These functions will not be directly callable after loading.\n"
     ]
    }
   ],
   "source": [
    "dataset_name = 'imdb_changed'\n",
    "saved_model_path = './{}_electra_small_for_score_correct_output'.format(dataset_name.replace('/', '_'))\n",
    "\n",
    "classifier_model.save(saved_model_path, include_optimizer=False)"
   ]
  },
  {
   "cell_type": "code",
   "execution_count": 83,
   "metadata": {},
   "outputs": [],
   "source": [
    "classifier_model.save('electra_small.h5', include_optimizer=False)"
   ]
  },
  {
   "cell_type": "code",
   "execution_count": 74,
   "metadata": {},
   "outputs": [
    {
     "name": "stdout",
     "output_type": "stream",
     "text": [
      "dict_keys(['loss', 'categorical_accuracy', 'val_loss', 'val_categorical_accuracy'])\n"
     ]
    },
    {
     "data": {
      "text/plain": [
       "<matplotlib.legend.Legend at 0x2ccb612d4c0>"
      ]
     },
     "execution_count": 74,
     "metadata": {},
     "output_type": "execute_result"
    },
    {
     "data": {
      "image/png": "[encoded data removed]",
      "text/plain": [
       "<Figure size 720x432 with 2 Axes>"
      ]
     },
     "metadata": {
      "needs_background": "light"
     },
     "output_type": "display_data"
    }
   ],
   "source": [
    "history_dict = history.history\n",
    "print(history_dict.keys())\n",
    "\n",
    "acc = history_dict['categorical_accuracy']\n",
    "val_acc = history_dict['val_categorical_accuracy']\n",
    "loss = history_dict['loss']\n",
    "val_loss = history_dict['val_loss']\n",
    "\n",
    "epochs = range(1, len(acc) + 1)\n",
    "fig = plt.figure(figsize=(10, 6))\n",
    "fig.tight_layout()\n",
    "\n",
    "plt.subplot(2, 1, 1)\n",
    "# \"bo\" is for \"blue dot\"\n",
    "plt.plot(epochs, loss, 'r', label='Training loss')\n",
    "# b is for \"solid blue line\"\n",
    "plt.plot(epochs, val_loss, 'b', label='Validation loss')\n",
    "plt.title('Training and validation loss')\n",
    "# plt.xlabel('Epochs')\n",
    "plt.ylabel('Loss')\n",
    "plt.legend()\n",
    "\n",
    "plt.subplot(2, 1, 2)\n",
    "plt.plot(epochs, acc, 'r', label='Training acc')\n",
    "plt.plot(epochs, val_acc, 'b', label='Validation acc')\n",
    "plt.title('Training and validation accuracy')\n",
    "plt.xlabel('Epochs')\n",
    "plt.ylabel('Accuracy')\n",
    "plt.legend(loc='lower right')"
   ]
  },
  {
   "cell_type": "code",
   "execution_count": 81,
   "metadata": {},
   "outputs": [
    {
     "name": "stdout",
     "output_type": "stream",
     "text": [
      "1\n"
     ]
    }
   ],
   "source": [
    "bert_raw_result_after_train = classifier_model(tf.constant(text_test))\n",
    "\n",
    "print(to_correct_predict(bert_raw_result_after_train))"
   ]
  },
  {
   "cell_type": "code",
   "execution_count": 82,
   "metadata": {},
   "outputs": [],
   "source": [
    "reloaded_model = tf.saved_model.load('imdb_changed_electra_small_for_score')"
   ]
  },
  {
   "cell_type": "code",
   "execution_count": 80,
   "metadata": {},
   "outputs": [
    {
     "name": "stdout",
     "output_type": "stream",
     "text": [
      "Results from the saved model:\n",
      "input: this is such an amazing movie! : score: [[4.3772785e-03 8.4275746e-01 1.0252289e-03 1.6381406e-03 5.6123390e-04\n",
      "  3.4833269e-03 3.1467138e-03 2.0466579e-02 2.9695425e-02 9.2848711e-02]\n",
      " [2.4477125e-03 8.4807968e-01 5.1386288e-04 9.9482341e-04 3.7021900e-04\n",
      "  1.5307601e-03 1.4425990e-03 1.6541293e-02 2.9938763e-02 9.8140292e-02]\n",
      " [1.2784018e-01 2.0352257e-02 2.6236948e-01 3.4834433e-01 1.7733039e-01\n",
      "  4.8123734e-04 1.3268066e-03 2.7643111e-02 1.8808095e-02 1.5504043e-02]\n",
      " [3.9272973e-01 6.1045559e-03 2.9293638e-01 1.8633583e-01 1.0181992e-01\n",
      "  6.5690110e-04 8.9793175e-04 9.9845063e-03 4.6071783e-03 3.9270297e-03]\n",
      " [8.3292568e-01 7.1347831e-04 1.0651203e-01 3.4918033e-02 2.1031059e-02\n",
      "  5.8382761e-04 9.4223744e-04 1.0717174e-03 4.6044143e-04 8.4150746e-04]]\n",
      "input: The movie was great!           : score: [[4.3772785e-03 8.4275746e-01 1.0252289e-03 1.6381406e-03 5.6123390e-04\n",
      "  3.4833269e-03 3.1467138e-03 2.0466579e-02 2.9695425e-02 9.2848711e-02]\n",
      " [2.4477125e-03 8.4807968e-01 5.1386288e-04 9.9482341e-04 3.7021900e-04\n",
      "  1.5307601e-03 1.4425990e-03 1.6541293e-02 2.9938763e-02 9.8140292e-02]\n",
      " [1.2784018e-01 2.0352257e-02 2.6236948e-01 3.4834433e-01 1.7733039e-01\n",
      "  4.8123734e-04 1.3268066e-03 2.7643111e-02 1.8808095e-02 1.5504043e-02]\n",
      " [3.9272973e-01 6.1045559e-03 2.9293638e-01 1.8633583e-01 1.0181992e-01\n",
      "  6.5690110e-04 8.9793175e-04 9.9845063e-03 4.6071783e-03 3.9270297e-03]\n",
      " [8.3292568e-01 7.1347831e-04 1.0651203e-01 3.4918033e-02 2.1031059e-02\n",
      "  5.8382761e-04 9.4223744e-04 1.0717174e-03 4.6044143e-04 8.4150746e-04]]\n",
      "input: The movie was meh.             : score: [[4.3772785e-03 8.4275746e-01 1.0252289e-03 1.6381406e-03 5.6123390e-04\n",
      "  3.4833269e-03 3.1467138e-03 2.0466579e-02 2.9695425e-02 9.2848711e-02]\n",
      " [2.4477125e-03 8.4807968e-01 5.1386288e-04 9.9482341e-04 3.7021900e-04\n",
      "  1.5307601e-03 1.4425990e-03 1.6541293e-02 2.9938763e-02 9.8140292e-02]\n",
      " [1.2784018e-01 2.0352257e-02 2.6236948e-01 3.4834433e-01 1.7733039e-01\n",
      "  4.8123734e-04 1.3268066e-03 2.7643111e-02 1.8808095e-02 1.5504043e-02]\n",
      " [3.9272973e-01 6.1045559e-03 2.9293638e-01 1.8633583e-01 1.0181992e-01\n",
      "  6.5690110e-04 8.9793175e-04 9.9845063e-03 4.6071783e-03 3.9270297e-03]\n",
      " [8.3292568e-01 7.1347831e-04 1.0651203e-01 3.4918033e-02 2.1031059e-02\n",
      "  5.8382761e-04 9.4223744e-04 1.0717174e-03 4.6044143e-04 8.4150746e-04]]\n",
      "input: The movie was okish.           : score: [[4.3772785e-03 8.4275746e-01 1.0252289e-03 1.6381406e-03 5.6123390e-04\n",
      "  3.4833269e-03 3.1467138e-03 2.0466579e-02 2.9695425e-02 9.2848711e-02]\n",
      " [2.4477125e-03 8.4807968e-01 5.1386288e-04 9.9482341e-04 3.7021900e-04\n",
      "  1.5307601e-03 1.4425990e-03 1.6541293e-02 2.9938763e-02 9.8140292e-02]\n",
      " [1.2784018e-01 2.0352257e-02 2.6236948e-01 3.4834433e-01 1.7733039e-01\n",
      "  4.8123734e-04 1.3268066e-03 2.7643111e-02 1.8808095e-02 1.5504043e-02]\n",
      " [3.9272973e-01 6.1045559e-03 2.9293638e-01 1.8633583e-01 1.0181992e-01\n",
      "  6.5690110e-04 8.9793175e-04 9.9845063e-03 4.6071783e-03 3.9270297e-03]\n",
      " [8.3292568e-01 7.1347831e-04 1.0651203e-01 3.4918033e-02 2.1031059e-02\n",
      "  5.8382761e-04 9.4223744e-04 1.0717174e-03 4.6044143e-04 8.4150746e-04]]\n",
      "input: The movie was terrible...      : score: [[4.3772785e-03 8.4275746e-01 1.0252289e-03 1.6381406e-03 5.6123390e-04\n",
      "  3.4833269e-03 3.1467138e-03 2.0466579e-02 2.9695425e-02 9.2848711e-02]\n",
      " [2.4477125e-03 8.4807968e-01 5.1386288e-04 9.9482341e-04 3.7021900e-04\n",
      "  1.5307601e-03 1.4425990e-03 1.6541293e-02 2.9938763e-02 9.8140292e-02]\n",
      " [1.2784018e-01 2.0352257e-02 2.6236948e-01 3.4834433e-01 1.7733039e-01\n",
      "  4.8123734e-04 1.3268066e-03 2.7643111e-02 1.8808095e-02 1.5504043e-02]\n",
      " [3.9272973e-01 6.1045559e-03 2.9293638e-01 1.8633583e-01 1.0181992e-01\n",
      "  6.5690110e-04 8.9793175e-04 9.9845063e-03 4.6071783e-03 3.9270297e-03]\n",
      " [8.3292568e-01 7.1347831e-04 1.0651203e-01 3.4918033e-02 2.1031059e-02\n",
      "  5.8382761e-04 9.4223744e-04 1.0717174e-03 4.6044143e-04 8.4150746e-04]]\n",
      "\n"
     ]
    }
   ],
   "source": [
    "def print_my_examples(inputs, results):\n",
    "  result_for_printing = \\\n",
    "    [f'input: {inputs[i]:<30} : score: {results}'\n",
    "                         for i in range(len(inputs))]\n",
    "  print(*result_for_printing, sep='\\n')\n",
    "  print()\n",
    "\n",
    "\n",
    "examples = [\n",
    "    'this is such an amazing movie!',  # this is the same sentence tried earlier\n",
    "    'The movie was great!',\n",
    "    'The movie was meh.',\n",
    "    'The movie was okish.',\n",
    "    'The movie was terrible...'\n",
    "]\n",
    "\n",
    "results = classifier_model.predict(examples)\n",
    "\n",
    "print('Results from the saved model:')\n",
    "print_my_examples(examples, results)"
   ]
  }
 ],
 "metadata": {
  "kernelspec": {
   "display_name": "Python 3",
   "language": "python",
   "name": "python3"
  },
  "language_info": {
   "codemirror_mode": {
    "name": "ipython",
    "version": 3
   },
   "file_extension": ".py",
   "mimetype": "text/x-python",
   "name": "python",
   "nbconvert_exporter": "python",
   "pygments_lexer": "ipython3",
   "version": "3.8.5"
  }
 },
 "nbformat": 4,
 "nbformat_minor": 4
}
